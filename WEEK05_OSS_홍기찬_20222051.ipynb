{
  "nbformat": 4,
  "nbformat_minor": 0,
  "metadata": {
    "colab": {
      "provenance": []
    },
    "kernelspec": {
      "name": "python3",
      "display_name": "Python 3"
    },
    "language_info": {
      "name": "python"
    }
  },
  "cells": [
    {
      "cell_type": "code",
      "execution_count": 1,
      "metadata": {
        "id": "_EqQevyh7cy-",
        "colab": {
          "base_uri": "https://localhost:8080/"
        },
        "outputId": "740a7532-b8dc-4b4f-eba5-2c61ccf4bcda"
      },
      "outputs": [
        {
          "output_type": "stream",
          "name": "stdout",
          "text": [
            "홍기찬\n",
            "20222051\n"
          ]
        }
      ],
      "source": [
        "# 본인의 이름, 학번을 작성하여 실행하세요.\n",
        "print(\"홍기찬\")\n",
        "print(\"20222051\")"
      ]
    },
    {
      "cell_type": "markdown",
      "source": [
        "## 이후 강의 PDF 예제 내용을 작성하여 실행하세요."
      ],
      "metadata": {
        "id": "m1FrI_-670e1"
      }
    },
    {
      "cell_type": "code",
      "source": [
        "DIAL_CODES = [\n",
        "    (86, 'China'),\n",
        "    (91, 'India'),\n",
        "    (1, 'United States'),\n",
        "    (55, 'Brazil'),\n",
        "    (7, 'Russia'),\n",
        "]\n",
        "\n",
        "country_code = {country: code for code, country in DIAL_CODES}\n",
        "print(country_code)\n"
      ],
      "metadata": {
        "id": "DK8jS1KQ7z37",
        "colab": {
          "base_uri": "https://localhost:8080/"
        },
        "outputId": "5b0125fb-081a-4a07-8885-6af299ffc021"
      },
      "execution_count": 2,
      "outputs": [
        {
          "output_type": "stream",
          "name": "stdout",
          "text": [
            "{'China': 86, 'India': 91, 'United States': 1, 'Brazil': 55, 'Russia': 7}\n"
          ]
        }
      ]
    },
    {
      "cell_type": "code",
      "source": [
        "import sys, re\n",
        "\n",
        "WORD_RE = re.compile(r'\\w+')\n",
        "index = {}\n",
        "\n",
        "with open(\"sejong.txt\", encoding='utf-8') as fp:\n",
        "    for line_no, line in enumerate(fp, 1):\n",
        "        for match in WORD_RE.finditer(line):\n",
        "            word = match.group()\n",
        "            column_no = match.start() + 1\n",
        "            location = (line_no, column_no)\n",
        "            occurence = index.get(word, [])\n",
        "            occurence.append(location)\n",
        "            index[word] = occurence\n",
        "\n",
        "for word in sorted(index, key=str.upper):\n",
        "    print(word, index[word])"
      ],
      "metadata": {
        "colab": {
          "base_uri": "https://localhost:8080/"
        },
        "id": "sbpuvpMoMH6R",
        "outputId": "ebe20d1d-70a7-4924-b673-229f5ffbb57c"
      },
      "execution_count": 3,
      "outputs": [
        {
          "output_type": "stream",
          "name": "stdout",
          "text": [
            "1 [(3, 447)]\n",
            "1397 [(1, 39)]\n",
            "1418 [(3, 118)]\n",
            "1422 [(3, 441)]\n",
            "1439 [(7, 6)]\n",
            "1450 [(1, 55), (7, 123)]\n",
            "15 [(1, 32)]\n",
            "2 [(5, 168)]\n",
            "3 [(5, 171)]\n",
            "30 [(1, 46)]\n",
            "4 [(5, 479)]\n",
            "5 [(5, 482)]\n",
            "6 [(7, 39)]\n",
            "a [(3, 184), (5, 339)]\n",
            "abdicated [(3, 224)]\n",
            "absolute [(3, 359)]\n",
            "acted [(7, 85)]\n",
            "advancements [(5, 185)]\n",
            "alphabet [(1, 316), (5, 158)]\n",
            "also [(5, 431)]\n",
            "amendments [(5, 88)]\n",
            "and [(1, 260), (3, 94), (3, 378), (3, 398), (5, 36), (5, 64), (5, 131), (5, 209), (5, 225), (5, 323), (7, 42)]\n",
            "areas [(5, 421)]\n",
            "as [(1, 107), (1, 211), (1, 278), (3, 167), (7, 91)]\n",
            "became [(7, 15)]\n",
            "brother [(3, 151)]\n",
            "campaigns [(5, 300)]\n",
            "Chungnyeong [(3, 31)]\n",
            "commonly [(1, 92)]\n",
            "Confucian [(5, 26), (5, 44)]\n",
            "conquered [(5, 411)]\n",
            "continued [(3, 402)]\n",
            "created [(5, 123)]\n",
            "crown [(3, 170)]\n",
            "Crown [(7, 62)]\n",
            "death [(3, 432)]\n",
            "died [(7, 109)]\n",
            "dynasty [(1, 178)]\n",
            "early [(3, 271)]\n",
            "economic [(5, 262)]\n",
            "eldest [(3, 144), (7, 50)]\n",
            "Emeritus [(3, 307)]\n",
            "enacted [(5, 68)]\n",
            "encouraged [(5, 174)]\n",
            "establishing [(5, 373)]\n",
            "executive [(3, 368)]\n",
            "favor [(3, 257)]\n",
            "few [(3, 186)]\n",
            "fourth [(1, 149)]\n",
            "From [(7, 1)]\n",
            "govern [(3, 415)]\n",
            "Grand [(3, 18)]\n",
            "Great [(1, 121)]\n",
            "greatest [(1, 225)]\n",
            "growth [(5, 271)]\n",
            "Hangul [(1, 297)]\n",
            "Hanja [(1, 21)]\n",
            "He [(1, 196), (5, 109), (5, 279), (5, 428)]\n",
            "he [(3, 57), (7, 12)]\n",
            "his [(3, 140), (3, 428), (7, 46)]\n",
            "history [(1, 251)]\n",
            "Hyang [(7, 78)]\n",
            "ill [(7, 35)]\n",
            "implemented [(5, 327)]\n",
            "in [(1, 241), (3, 245), (3, 438), (5, 198), (5, 398)]\n",
            "In [(3, 115), (3, 264)]\n",
            "increasingly [(7, 22)]\n",
            "Initially [(3, 1)]\n",
            "introduced [(5, 229)]\n",
            "inventor [(1, 285)]\n",
            "is [(1, 199), (1, 264)]\n",
            "island [(5, 471)]\n",
            "Je [(3, 163)]\n",
            "Joseon [(1, 171)]\n",
            "King [(3, 81), (3, 302)]\n",
            "known [(1, 101)]\n",
            "Korea [(1, 189)]\n",
            "Korean [(1, 9), (1, 244), (1, 332), (5, 19), (5, 151)]\n",
            "language [(1, 339)]\n",
            "later [(3, 197)]\n",
            "launched [(5, 282)]\n",
            "legal [(5, 82)]\n",
            "major [(5, 76)]\n",
            "March [(1, 49), (7, 117)]\n",
            "May [(1, 35)]\n",
            "measures [(5, 240)]\n",
            "military [(3, 382), (5, 291)]\n",
            "monarch [(1, 156)]\n",
            "months [(3, 190)]\n",
            "most [(3, 346)]\n",
            "name [(1, 71)]\n",
            "native [(1, 309)]\n",
            "Neo [(5, 40)]\n",
            "newly [(5, 405)]\n",
            "north [(5, 317)]\n",
            "notably [(3, 351)]\n",
            "Occupation [(5, 448)]\n",
            "of [(1, 164), (1, 186), (1, 218), (1, 294), (1, 325), (3, 78), (3, 283), (5, 459)]\n",
            "on [(7, 114)]\n",
            "one [(1, 214)]\n",
            "ordered [(5, 436)]\n",
            "personal [(1, 62)]\n",
            "personally [(5, 112)]\n",
            "policies [(5, 54)]\n",
            "policy [(5, 352)]\n",
            "power [(3, 391)]\n",
            "powers [(3, 338)]\n",
            "Prince [(3, 24), (7, 68)]\n",
            "prince [(3, 176)]\n",
            "promulgated [(5, 135)]\n",
            "Queen [(3, 98)]\n",
            "regarded [(1, 202)]\n",
            "regent [(7, 94)]\n",
            "reign [(3, 295)]\n",
            "reinforced [(5, 8)]\n",
            "relocation [(5, 341)]\n",
            "remembered [(1, 267)]\n",
            "replaced [(3, 131)]\n",
            "retained [(3, 324)]\n",
            "rulers [(1, 234)]\n",
            "s [(3, 255), (3, 293)]\n",
            "science [(5, 201)]\n",
            "Sejong [(1, 1), (1, 110), (3, 124), (3, 248), (3, 286), (5, 1), (7, 102)]\n",
            "settlements [(5, 386)]\n",
            "son [(3, 74), (7, 57)]\n",
            "stimulate [(5, 252)]\n",
            "Taejong [(3, 86), (3, 204), (3, 316)]\n",
            "technology [(5, 213)]\n",
            "the [(1, 117), (1, 145), (1, 167), (1, 221), (1, 281), (1, 305), (1, 328), (3, 64), (3, 234), (3, 267), (5, 147), (5, 313), (5, 401), (5, 444)]\n",
            "third [(3, 68)]\n",
            "throne [(3, 238)]\n",
            "titled [(3, 11)]\n",
            "To [(1, 79)]\n",
            "to [(3, 412), (5, 249), (5, 310)]\n",
            "Tsushima [(5, 462)]\n",
            "until [(3, 422)]\n",
            "vast [(3, 333)]\n",
            "voluntarily [(3, 212)]\n",
            "was [(1, 141), (3, 60)]\n",
            "Wongyeong [(3, 104)]\n",
            "years [(3, 277)]\n",
            "Yi [(1, 76), (3, 160), (7, 75)]\n",
            "世宗 [(1, 28)]\n",
            "世宗大王 [(1, 134)]\n",
            "徙民政策 [(5, 366)]\n",
            "忠寧大君 [(3, 50)]\n",
            "李祹 [(1, 87)]\n",
            "貢法 [(5, 104)]\n",
            "공법 [(5, 100)]\n",
            "사민정책 [(5, 360)]\n",
            "세종 [(1, 17)]\n",
            "세종대왕 [(1, 128)]\n",
            "이도 [(1, 83)]\n",
            "충녕대군 [(3, 44)]\n"
          ]
        }
      ]
    },
    {
      "cell_type": "code",
      "source": [
        "import sys, re\n",
        "\n",
        "WORD_RE = re.compile(r'\\w+')\n",
        "index = {}\n",
        "\n",
        "with open(\"sejong.txt\", encoding='utf-8') as fp:\n",
        "    for line_no, line in enumerate(fp, 1):\n",
        "        for match in WORD_RE.finditer(line):\n",
        "            word = match.group()\n",
        "            column_no = match.start() + 1\n",
        "            location = (line_no, column_no)\n",
        "            index.setdefault(word, []).append(location)\n",
        "\n",
        "for word in sorted(index, key=str.upper):\n",
        "    print(word, index[word])"
      ],
      "metadata": {
        "colab": {
          "base_uri": "https://localhost:8080/"
        },
        "id": "AHPpAXLjMIDr",
        "outputId": "cdcead50-83d8-49ea-bbf5-b0770627422e"
      },
      "execution_count": 4,
      "outputs": [
        {
          "output_type": "stream",
          "name": "stdout",
          "text": [
            "1 [(3, 447)]\n",
            "1397 [(1, 39)]\n",
            "1418 [(3, 118)]\n",
            "1422 [(3, 441)]\n",
            "1439 [(7, 6)]\n",
            "1450 [(1, 55), (7, 123)]\n",
            "15 [(1, 32)]\n",
            "2 [(5, 168)]\n",
            "3 [(5, 171)]\n",
            "30 [(1, 46)]\n",
            "4 [(5, 479)]\n",
            "5 [(5, 482)]\n",
            "6 [(7, 39)]\n",
            "a [(3, 184), (5, 339)]\n",
            "abdicated [(3, 224)]\n",
            "absolute [(3, 359)]\n",
            "acted [(7, 85)]\n",
            "advancements [(5, 185)]\n",
            "alphabet [(1, 316), (5, 158)]\n",
            "also [(5, 431)]\n",
            "amendments [(5, 88)]\n",
            "and [(1, 260), (3, 94), (3, 378), (3, 398), (5, 36), (5, 64), (5, 131), (5, 209), (5, 225), (5, 323), (7, 42)]\n",
            "areas [(5, 421)]\n",
            "as [(1, 107), (1, 211), (1, 278), (3, 167), (7, 91)]\n",
            "became [(7, 15)]\n",
            "brother [(3, 151)]\n",
            "campaigns [(5, 300)]\n",
            "Chungnyeong [(3, 31)]\n",
            "commonly [(1, 92)]\n",
            "Confucian [(5, 26), (5, 44)]\n",
            "conquered [(5, 411)]\n",
            "continued [(3, 402)]\n",
            "created [(5, 123)]\n",
            "crown [(3, 170)]\n",
            "Crown [(7, 62)]\n",
            "death [(3, 432)]\n",
            "died [(7, 109)]\n",
            "dynasty [(1, 178)]\n",
            "early [(3, 271)]\n",
            "economic [(5, 262)]\n",
            "eldest [(3, 144), (7, 50)]\n",
            "Emeritus [(3, 307)]\n",
            "enacted [(5, 68)]\n",
            "encouraged [(5, 174)]\n",
            "establishing [(5, 373)]\n",
            "executive [(3, 368)]\n",
            "favor [(3, 257)]\n",
            "few [(3, 186)]\n",
            "fourth [(1, 149)]\n",
            "From [(7, 1)]\n",
            "govern [(3, 415)]\n",
            "Grand [(3, 18)]\n",
            "Great [(1, 121)]\n",
            "greatest [(1, 225)]\n",
            "growth [(5, 271)]\n",
            "Hangul [(1, 297)]\n",
            "Hanja [(1, 21)]\n",
            "He [(1, 196), (5, 109), (5, 279), (5, 428)]\n",
            "he [(3, 57), (7, 12)]\n",
            "his [(3, 140), (3, 428), (7, 46)]\n",
            "history [(1, 251)]\n",
            "Hyang [(7, 78)]\n",
            "ill [(7, 35)]\n",
            "implemented [(5, 327)]\n",
            "in [(1, 241), (3, 245), (3, 438), (5, 198), (5, 398)]\n",
            "In [(3, 115), (3, 264)]\n",
            "increasingly [(7, 22)]\n",
            "Initially [(3, 1)]\n",
            "introduced [(5, 229)]\n",
            "inventor [(1, 285)]\n",
            "is [(1, 199), (1, 264)]\n",
            "island [(5, 471)]\n",
            "Je [(3, 163)]\n",
            "Joseon [(1, 171)]\n",
            "King [(3, 81), (3, 302)]\n",
            "known [(1, 101)]\n",
            "Korea [(1, 189)]\n",
            "Korean [(1, 9), (1, 244), (1, 332), (5, 19), (5, 151)]\n",
            "language [(1, 339)]\n",
            "later [(3, 197)]\n",
            "launched [(5, 282)]\n",
            "legal [(5, 82)]\n",
            "major [(5, 76)]\n",
            "March [(1, 49), (7, 117)]\n",
            "May [(1, 35)]\n",
            "measures [(5, 240)]\n",
            "military [(3, 382), (5, 291)]\n",
            "monarch [(1, 156)]\n",
            "months [(3, 190)]\n",
            "most [(3, 346)]\n",
            "name [(1, 71)]\n",
            "native [(1, 309)]\n",
            "Neo [(5, 40)]\n",
            "newly [(5, 405)]\n",
            "north [(5, 317)]\n",
            "notably [(3, 351)]\n",
            "Occupation [(5, 448)]\n",
            "of [(1, 164), (1, 186), (1, 218), (1, 294), (1, 325), (3, 78), (3, 283), (5, 459)]\n",
            "on [(7, 114)]\n",
            "one [(1, 214)]\n",
            "ordered [(5, 436)]\n",
            "personal [(1, 62)]\n",
            "personally [(5, 112)]\n",
            "policies [(5, 54)]\n",
            "policy [(5, 352)]\n",
            "power [(3, 391)]\n",
            "powers [(3, 338)]\n",
            "Prince [(3, 24), (7, 68)]\n",
            "prince [(3, 176)]\n",
            "promulgated [(5, 135)]\n",
            "Queen [(3, 98)]\n",
            "regarded [(1, 202)]\n",
            "regent [(7, 94)]\n",
            "reign [(3, 295)]\n",
            "reinforced [(5, 8)]\n",
            "relocation [(5, 341)]\n",
            "remembered [(1, 267)]\n",
            "replaced [(3, 131)]\n",
            "retained [(3, 324)]\n",
            "rulers [(1, 234)]\n",
            "s [(3, 255), (3, 293)]\n",
            "science [(5, 201)]\n",
            "Sejong [(1, 1), (1, 110), (3, 124), (3, 248), (3, 286), (5, 1), (7, 102)]\n",
            "settlements [(5, 386)]\n",
            "son [(3, 74), (7, 57)]\n",
            "stimulate [(5, 252)]\n",
            "Taejong [(3, 86), (3, 204), (3, 316)]\n",
            "technology [(5, 213)]\n",
            "the [(1, 117), (1, 145), (1, 167), (1, 221), (1, 281), (1, 305), (1, 328), (3, 64), (3, 234), (3, 267), (5, 147), (5, 313), (5, 401), (5, 444)]\n",
            "third [(3, 68)]\n",
            "throne [(3, 238)]\n",
            "titled [(3, 11)]\n",
            "To [(1, 79)]\n",
            "to [(3, 412), (5, 249), (5, 310)]\n",
            "Tsushima [(5, 462)]\n",
            "until [(3, 422)]\n",
            "vast [(3, 333)]\n",
            "voluntarily [(3, 212)]\n",
            "was [(1, 141), (3, 60)]\n",
            "Wongyeong [(3, 104)]\n",
            "years [(3, 277)]\n",
            "Yi [(1, 76), (3, 160), (7, 75)]\n",
            "世宗 [(1, 28)]\n",
            "世宗大王 [(1, 134)]\n",
            "徙民政策 [(5, 366)]\n",
            "忠寧大君 [(3, 50)]\n",
            "李祹 [(1, 87)]\n",
            "貢法 [(5, 104)]\n",
            "공법 [(5, 100)]\n",
            "사민정책 [(5, 360)]\n",
            "세종 [(1, 17)]\n",
            "세종대왕 [(1, 128)]\n",
            "이도 [(1, 83)]\n",
            "충녕대군 [(3, 44)]\n"
          ]
        }
      ]
    },
    {
      "cell_type": "code",
      "source": [
        "import sys, re, collections\n",
        "\n",
        "WORD_RE = re.compile(r'\\w+')\n",
        "index = collections.defaultdict(list)\n",
        "\n",
        "with open(\"sejong.txt\", encoding='utf-8') as fp:\n",
        "    for line_no, line in enumerate(fp, 1):\n",
        "        for match in WORD_RE.finditer(line):\n",
        "            word = match.group()\n",
        "            column_no = match.start() + 1\n",
        "            location = (line_no, column_no)\n",
        "            index[word].append(location)\n",
        "\n",
        "for word in sorted(index, key=str.upper):\n",
        "    print(word, index[word])"
      ],
      "metadata": {
        "colab": {
          "base_uri": "https://localhost:8080/"
        },
        "id": "eTWFMVIkMIL_",
        "outputId": "d140c5ca-9a51-42aa-ef8c-66d4b0172341"
      },
      "execution_count": 5,
      "outputs": [
        {
          "output_type": "stream",
          "name": "stdout",
          "text": [
            "1 [(3, 447)]\n",
            "1397 [(1, 39)]\n",
            "1418 [(3, 118)]\n",
            "1422 [(3, 441)]\n",
            "1439 [(7, 6)]\n",
            "1450 [(1, 55), (7, 123)]\n",
            "15 [(1, 32)]\n",
            "2 [(5, 168)]\n",
            "3 [(5, 171)]\n",
            "30 [(1, 46)]\n",
            "4 [(5, 479)]\n",
            "5 [(5, 482)]\n",
            "6 [(7, 39)]\n",
            "a [(3, 184), (5, 339)]\n",
            "abdicated [(3, 224)]\n",
            "absolute [(3, 359)]\n",
            "acted [(7, 85)]\n",
            "advancements [(5, 185)]\n",
            "alphabet [(1, 316), (5, 158)]\n",
            "also [(5, 431)]\n",
            "amendments [(5, 88)]\n",
            "and [(1, 260), (3, 94), (3, 378), (3, 398), (5, 36), (5, 64), (5, 131), (5, 209), (5, 225), (5, 323), (7, 42)]\n",
            "areas [(5, 421)]\n",
            "as [(1, 107), (1, 211), (1, 278), (3, 167), (7, 91)]\n",
            "became [(7, 15)]\n",
            "brother [(3, 151)]\n",
            "campaigns [(5, 300)]\n",
            "Chungnyeong [(3, 31)]\n",
            "commonly [(1, 92)]\n",
            "Confucian [(5, 26), (5, 44)]\n",
            "conquered [(5, 411)]\n",
            "continued [(3, 402)]\n",
            "created [(5, 123)]\n",
            "crown [(3, 170)]\n",
            "Crown [(7, 62)]\n",
            "death [(3, 432)]\n",
            "died [(7, 109)]\n",
            "dynasty [(1, 178)]\n",
            "early [(3, 271)]\n",
            "economic [(5, 262)]\n",
            "eldest [(3, 144), (7, 50)]\n",
            "Emeritus [(3, 307)]\n",
            "enacted [(5, 68)]\n",
            "encouraged [(5, 174)]\n",
            "establishing [(5, 373)]\n",
            "executive [(3, 368)]\n",
            "favor [(3, 257)]\n",
            "few [(3, 186)]\n",
            "fourth [(1, 149)]\n",
            "From [(7, 1)]\n",
            "govern [(3, 415)]\n",
            "Grand [(3, 18)]\n",
            "Great [(1, 121)]\n",
            "greatest [(1, 225)]\n",
            "growth [(5, 271)]\n",
            "Hangul [(1, 297)]\n",
            "Hanja [(1, 21)]\n",
            "He [(1, 196), (5, 109), (5, 279), (5, 428)]\n",
            "he [(3, 57), (7, 12)]\n",
            "his [(3, 140), (3, 428), (7, 46)]\n",
            "history [(1, 251)]\n",
            "Hyang [(7, 78)]\n",
            "ill [(7, 35)]\n",
            "implemented [(5, 327)]\n",
            "in [(1, 241), (3, 245), (3, 438), (5, 198), (5, 398)]\n",
            "In [(3, 115), (3, 264)]\n",
            "increasingly [(7, 22)]\n",
            "Initially [(3, 1)]\n",
            "introduced [(5, 229)]\n",
            "inventor [(1, 285)]\n",
            "is [(1, 199), (1, 264)]\n",
            "island [(5, 471)]\n",
            "Je [(3, 163)]\n",
            "Joseon [(1, 171)]\n",
            "King [(3, 81), (3, 302)]\n",
            "known [(1, 101)]\n",
            "Korea [(1, 189)]\n",
            "Korean [(1, 9), (1, 244), (1, 332), (5, 19), (5, 151)]\n",
            "language [(1, 339)]\n",
            "later [(3, 197)]\n",
            "launched [(5, 282)]\n",
            "legal [(5, 82)]\n",
            "major [(5, 76)]\n",
            "March [(1, 49), (7, 117)]\n",
            "May [(1, 35)]\n",
            "measures [(5, 240)]\n",
            "military [(3, 382), (5, 291)]\n",
            "monarch [(1, 156)]\n",
            "months [(3, 190)]\n",
            "most [(3, 346)]\n",
            "name [(1, 71)]\n",
            "native [(1, 309)]\n",
            "Neo [(5, 40)]\n",
            "newly [(5, 405)]\n",
            "north [(5, 317)]\n",
            "notably [(3, 351)]\n",
            "Occupation [(5, 448)]\n",
            "of [(1, 164), (1, 186), (1, 218), (1, 294), (1, 325), (3, 78), (3, 283), (5, 459)]\n",
            "on [(7, 114)]\n",
            "one [(1, 214)]\n",
            "ordered [(5, 436)]\n",
            "personal [(1, 62)]\n",
            "personally [(5, 112)]\n",
            "policies [(5, 54)]\n",
            "policy [(5, 352)]\n",
            "power [(3, 391)]\n",
            "powers [(3, 338)]\n",
            "Prince [(3, 24), (7, 68)]\n",
            "prince [(3, 176)]\n",
            "promulgated [(5, 135)]\n",
            "Queen [(3, 98)]\n",
            "regarded [(1, 202)]\n",
            "regent [(7, 94)]\n",
            "reign [(3, 295)]\n",
            "reinforced [(5, 8)]\n",
            "relocation [(5, 341)]\n",
            "remembered [(1, 267)]\n",
            "replaced [(3, 131)]\n",
            "retained [(3, 324)]\n",
            "rulers [(1, 234)]\n",
            "s [(3, 255), (3, 293)]\n",
            "science [(5, 201)]\n",
            "Sejong [(1, 1), (1, 110), (3, 124), (3, 248), (3, 286), (5, 1), (7, 102)]\n",
            "settlements [(5, 386)]\n",
            "son [(3, 74), (7, 57)]\n",
            "stimulate [(5, 252)]\n",
            "Taejong [(3, 86), (3, 204), (3, 316)]\n",
            "technology [(5, 213)]\n",
            "the [(1, 117), (1, 145), (1, 167), (1, 221), (1, 281), (1, 305), (1, 328), (3, 64), (3, 234), (3, 267), (5, 147), (5, 313), (5, 401), (5, 444)]\n",
            "third [(3, 68)]\n",
            "throne [(3, 238)]\n",
            "titled [(3, 11)]\n",
            "To [(1, 79)]\n",
            "to [(3, 412), (5, 249), (5, 310)]\n",
            "Tsushima [(5, 462)]\n",
            "until [(3, 422)]\n",
            "vast [(3, 333)]\n",
            "voluntarily [(3, 212)]\n",
            "was [(1, 141), (3, 60)]\n",
            "Wongyeong [(3, 104)]\n",
            "years [(3, 277)]\n",
            "Yi [(1, 76), (3, 160), (7, 75)]\n",
            "世宗 [(1, 28)]\n",
            "世宗大王 [(1, 134)]\n",
            "徙民政策 [(5, 366)]\n",
            "忠寧大君 [(3, 50)]\n",
            "李祹 [(1, 87)]\n",
            "貢法 [(5, 104)]\n",
            "공법 [(5, 100)]\n",
            "사민정책 [(5, 360)]\n",
            "세종 [(1, 17)]\n",
            "세종대왕 [(1, 128)]\n",
            "이도 [(1, 83)]\n",
            "충녕대군 [(3, 44)]\n"
          ]
        }
      ]
    },
    {
      "cell_type": "code",
      "source": [
        "class StrKeyDict0(dict):\n",
        "\n",
        "    def __missing__(self, key):\n",
        "        if isinstance(key, str):\n",
        "            raise KeyError(key)\n",
        "        return self[str(key)]\n",
        "\n",
        "    def get(self, key, default=None):\n",
        "        try:\n",
        "            return self[key]\n",
        "        except KeyError:\n",
        "            return default\n",
        "\n",
        "    def __contains__(self, key):\n",
        "        return key in self.keys() or str(key) in self.keys()"
      ],
      "metadata": {
        "id": "J2tcEGDvMITA"
      },
      "execution_count": 6,
      "outputs": []
    },
    {
      "cell_type": "code",
      "source": [
        "d = StrKeyDict0([('2', 'two'), ('4', 'four')])\n",
        "\n",
        "print(d['2'])\n",
        "print(d[4])\n",
        "print(d.get('2'))\n",
        "print(d.get(4))\n",
        "print(d.get(1, 'N/A'))\n",
        "print(2 in d)"
      ],
      "metadata": {
        "colab": {
          "base_uri": "https://localhost:8080/"
        },
        "id": "NyqnyM14MIbw",
        "outputId": "c0d464e1-c6a3-454b-d700-c348f7484710"
      },
      "execution_count": 7,
      "outputs": [
        {
          "output_type": "stream",
          "name": "stdout",
          "text": [
            "two\n",
            "four\n",
            "two\n",
            "four\n",
            "N/A\n",
            "True\n"
          ]
        }
      ]
    },
    {
      "cell_type": "code",
      "source": [
        "d = StrKeyDict0([('2', 'two'), ('4', 'four')])\n",
        "print(d[1])"
      ],
      "metadata": {
        "colab": {
          "base_uri": "https://localhost:8080/",
          "height": 317
        },
        "id": "nyRjVDUAMIlA",
        "outputId": "fca18a52-6c6d-4452-fa16-b8953eb3a35c"
      },
      "execution_count": 8,
      "outputs": [
        {
          "output_type": "error",
          "ename": "KeyError",
          "evalue": "'1'",
          "traceback": [
            "\u001b[0;31m---------------------------------------------------------------------------\u001b[0m",
            "\u001b[0;31mKeyError\u001b[0m                                  Traceback (most recent call last)",
            "\u001b[0;32m/tmp/ipython-input-449490187.py\u001b[0m in \u001b[0;36m<cell line: 0>\u001b[0;34m()\u001b[0m\n\u001b[1;32m      1\u001b[0m \u001b[0md\u001b[0m \u001b[0;34m=\u001b[0m \u001b[0mStrKeyDict0\u001b[0m\u001b[0;34m(\u001b[0m\u001b[0;34m[\u001b[0m\u001b[0;34m(\u001b[0m\u001b[0;34m'2'\u001b[0m\u001b[0;34m,\u001b[0m \u001b[0;34m'two'\u001b[0m\u001b[0;34m)\u001b[0m\u001b[0;34m,\u001b[0m \u001b[0;34m(\u001b[0m\u001b[0;34m'4'\u001b[0m\u001b[0;34m,\u001b[0m \u001b[0;34m'four'\u001b[0m\u001b[0;34m)\u001b[0m\u001b[0;34m]\u001b[0m\u001b[0;34m)\u001b[0m\u001b[0;34m\u001b[0m\u001b[0;34m\u001b[0m\u001b[0m\n\u001b[0;32m----> 2\u001b[0;31m \u001b[0mprint\u001b[0m\u001b[0;34m(\u001b[0m\u001b[0md\u001b[0m\u001b[0;34m[\u001b[0m\u001b[0;36m1\u001b[0m\u001b[0;34m]\u001b[0m\u001b[0;34m)\u001b[0m\u001b[0;34m\u001b[0m\u001b[0;34m\u001b[0m\u001b[0m\n\u001b[0m",
            "\u001b[0;32m/tmp/ipython-input-1789194558.py\u001b[0m in \u001b[0;36m__missing__\u001b[0;34m(self, key)\u001b[0m\n\u001b[1;32m      4\u001b[0m         \u001b[0;32mif\u001b[0m \u001b[0misinstance\u001b[0m\u001b[0;34m(\u001b[0m\u001b[0mkey\u001b[0m\u001b[0;34m,\u001b[0m \u001b[0mstr\u001b[0m\u001b[0;34m)\u001b[0m\u001b[0;34m:\u001b[0m\u001b[0;34m\u001b[0m\u001b[0;34m\u001b[0m\u001b[0m\n\u001b[1;32m      5\u001b[0m             \u001b[0;32mraise\u001b[0m \u001b[0mKeyError\u001b[0m\u001b[0;34m(\u001b[0m\u001b[0mkey\u001b[0m\u001b[0;34m)\u001b[0m\u001b[0;34m\u001b[0m\u001b[0;34m\u001b[0m\u001b[0m\n\u001b[0;32m----> 6\u001b[0;31m         \u001b[0;32mreturn\u001b[0m \u001b[0mself\u001b[0m\u001b[0;34m[\u001b[0m\u001b[0mstr\u001b[0m\u001b[0;34m(\u001b[0m\u001b[0mkey\u001b[0m\u001b[0;34m)\u001b[0m\u001b[0;34m]\u001b[0m\u001b[0;34m\u001b[0m\u001b[0;34m\u001b[0m\u001b[0m\n\u001b[0m\u001b[1;32m      7\u001b[0m \u001b[0;34m\u001b[0m\u001b[0m\n\u001b[1;32m      8\u001b[0m     \u001b[0;32mdef\u001b[0m \u001b[0mget\u001b[0m\u001b[0;34m(\u001b[0m\u001b[0mself\u001b[0m\u001b[0;34m,\u001b[0m \u001b[0mkey\u001b[0m\u001b[0;34m,\u001b[0m \u001b[0mdefault\u001b[0m\u001b[0;34m=\u001b[0m\u001b[0;32mNone\u001b[0m\u001b[0;34m)\u001b[0m\u001b[0;34m:\u001b[0m\u001b[0;34m\u001b[0m\u001b[0;34m\u001b[0m\u001b[0m\n",
            "\u001b[0;32m/tmp/ipython-input-1789194558.py\u001b[0m in \u001b[0;36m__missing__\u001b[0;34m(self, key)\u001b[0m\n\u001b[1;32m      3\u001b[0m     \u001b[0;32mdef\u001b[0m \u001b[0m__missing__\u001b[0m\u001b[0;34m(\u001b[0m\u001b[0mself\u001b[0m\u001b[0;34m,\u001b[0m \u001b[0mkey\u001b[0m\u001b[0;34m)\u001b[0m\u001b[0;34m:\u001b[0m\u001b[0;34m\u001b[0m\u001b[0;34m\u001b[0m\u001b[0m\n\u001b[1;32m      4\u001b[0m         \u001b[0;32mif\u001b[0m \u001b[0misinstance\u001b[0m\u001b[0;34m(\u001b[0m\u001b[0mkey\u001b[0m\u001b[0;34m,\u001b[0m \u001b[0mstr\u001b[0m\u001b[0;34m)\u001b[0m\u001b[0;34m:\u001b[0m\u001b[0;34m\u001b[0m\u001b[0;34m\u001b[0m\u001b[0m\n\u001b[0;32m----> 5\u001b[0;31m             \u001b[0;32mraise\u001b[0m \u001b[0mKeyError\u001b[0m\u001b[0;34m(\u001b[0m\u001b[0mkey\u001b[0m\u001b[0;34m)\u001b[0m\u001b[0;34m\u001b[0m\u001b[0;34m\u001b[0m\u001b[0m\n\u001b[0m\u001b[1;32m      6\u001b[0m         \u001b[0;32mreturn\u001b[0m \u001b[0mself\u001b[0m\u001b[0;34m[\u001b[0m\u001b[0mstr\u001b[0m\u001b[0;34m(\u001b[0m\u001b[0mkey\u001b[0m\u001b[0;34m)\u001b[0m\u001b[0;34m]\u001b[0m\u001b[0;34m\u001b[0m\u001b[0;34m\u001b[0m\u001b[0m\n\u001b[1;32m      7\u001b[0m \u001b[0;34m\u001b[0m\u001b[0m\n",
            "\u001b[0;31mKeyError\u001b[0m: '1'"
          ]
        }
      ]
    },
    {
      "cell_type": "code",
      "source": [
        "import collections\n",
        "\n",
        "class StrKeyDict(collections.UserDict):\n",
        "\n",
        "    def __missing__(self, key):\n",
        "        if isinstance(key, str):\n",
        "            raise KeyError(key)\n",
        "        return self[str(key)]\n",
        "\n",
        "    def __contains__(self, key):\n",
        "        return str(key) in self.data\n",
        "\n",
        "    def __setitem__(self, key, item):\n",
        "        self.data[str(key)] = item\n"
      ],
      "metadata": {
        "id": "T0Et6bY4MIu4"
      },
      "execution_count": 9,
      "outputs": []
    },
    {
      "cell_type": "code",
      "source": [
        "from types import MappingProxyType\n",
        "\n",
        "d = {1: 'A'}\n",
        "d_proxy = MappingProxyType(d)\n",
        "\n",
        "print(d_proxy)\n",
        "print(d_proxy[1])\n",
        "\n",
        "d_proxy[2] = 'x'\n",
        "\n",
        "d[2] = 'B'\n",
        "print(d_proxy)\n"
      ],
      "metadata": {
        "colab": {
          "base_uri": "https://localhost:8080/",
          "height": 256
        },
        "id": "ckYxP894MI4R",
        "outputId": "31a2a806-b87a-403b-a62e-727581b0b862"
      },
      "execution_count": 10,
      "outputs": [
        {
          "output_type": "stream",
          "name": "stdout",
          "text": [
            "{1: 'A'}\n",
            "A\n"
          ]
        },
        {
          "output_type": "error",
          "ename": "TypeError",
          "evalue": "'mappingproxy' object does not support item assignment",
          "traceback": [
            "\u001b[0;31m---------------------------------------------------------------------------\u001b[0m",
            "\u001b[0;31mTypeError\u001b[0m                                 Traceback (most recent call last)",
            "\u001b[0;32m/tmp/ipython-input-2093230111.py\u001b[0m in \u001b[0;36m<cell line: 0>\u001b[0;34m()\u001b[0m\n\u001b[1;32m      7\u001b[0m \u001b[0mprint\u001b[0m\u001b[0;34m(\u001b[0m\u001b[0md_proxy\u001b[0m\u001b[0;34m[\u001b[0m\u001b[0;36m1\u001b[0m\u001b[0;34m]\u001b[0m\u001b[0;34m)\u001b[0m\u001b[0;34m\u001b[0m\u001b[0;34m\u001b[0m\u001b[0m\n\u001b[1;32m      8\u001b[0m \u001b[0;34m\u001b[0m\u001b[0m\n\u001b[0;32m----> 9\u001b[0;31m \u001b[0md_proxy\u001b[0m\u001b[0;34m[\u001b[0m\u001b[0;36m2\u001b[0m\u001b[0;34m]\u001b[0m \u001b[0;34m=\u001b[0m \u001b[0;34m'x'\u001b[0m  \u001b[0;31m# TypeError\u001b[0m\u001b[0;34m\u001b[0m\u001b[0;34m\u001b[0m\u001b[0m\n\u001b[0m\u001b[1;32m     10\u001b[0m \u001b[0;34m\u001b[0m\u001b[0m\n\u001b[1;32m     11\u001b[0m \u001b[0md\u001b[0m\u001b[0;34m[\u001b[0m\u001b[0;36m2\u001b[0m\u001b[0;34m]\u001b[0m \u001b[0;34m=\u001b[0m \u001b[0;34m'B'\u001b[0m\u001b[0;34m\u001b[0m\u001b[0;34m\u001b[0m\u001b[0m\n",
            "\u001b[0;31mTypeError\u001b[0m: 'mappingproxy' object does not support item assignment"
          ]
        }
      ]
    },
    {
      "cell_type": "code",
      "source": [
        "from types import MappingProxyType\n",
        "\n",
        "d = {1: 'A'}\n",
        "d_proxy = MappingProxyType(d)\n",
        "\n",
        "print(d_proxy)\n",
        "print(d_proxy[1])\n",
        "\n",
        "\n",
        "\n",
        "d[2] = 'B'\n",
        "print(d_proxy)"
      ],
      "metadata": {
        "colab": {
          "base_uri": "https://localhost:8080/"
        },
        "id": "kukC_vSxQWzL",
        "outputId": "cf2204a6-28c9-402c-e5ec-0e48b33b311a"
      },
      "execution_count": 11,
      "outputs": [
        {
          "output_type": "stream",
          "name": "stdout",
          "text": [
            "{1: 'A'}\n",
            "A\n",
            "{1: 'A', 2: 'B'}\n"
          ]
        }
      ]
    },
    {
      "cell_type": "code",
      "source": [
        "l = [\"spam\", \"spam\", \"eggs\", \"spam\"]\n",
        "\n",
        "set(l)\n",
        "\n",
        "list(set(l))\n"
      ],
      "metadata": {
        "colab": {
          "base_uri": "https://localhost:8080/"
        },
        "id": "8tELd_uYMJHk",
        "outputId": "ddda062c-8dc4-43f5-812a-08a7f330ddfe"
      },
      "execution_count": 12,
      "outputs": [
        {
          "output_type": "execute_result",
          "data": {
            "text/plain": [
              "['eggs', 'spam']"
            ]
          },
          "metadata": {},
          "execution_count": 12
        }
      ]
    },
    {
      "cell_type": "code",
      "source": [
        "l = set([\"spam\", \"spam\", \"eggs\", \"spam\", \"eggs\", \"meats\", \"onions\", \"onions\"])\n",
        "m = set([\"eggs\", \"onions\"])\n",
        "\n",
        "found = len(l & m)\n",
        "print(found)\n",
        "\n",
        "found = 0\n",
        "for n in m:\n",
        "    if n in l:\n",
        "        found += 1\n",
        "print(found)\n",
        "\n",
        "found = len(l.intersection(m))\n",
        "print(found)\n"
      ],
      "metadata": {
        "colab": {
          "base_uri": "https://localhost:8080/"
        },
        "id": "cl_1bxY7MJUJ",
        "outputId": "44b0c12b-f90f-447d-8e80-d0db0a24baa3"
      },
      "execution_count": 13,
      "outputs": [
        {
          "output_type": "stream",
          "name": "stdout",
          "text": [
            "2\n",
            "2\n",
            "2\n"
          ]
        }
      ]
    },
    {
      "cell_type": "code",
      "source": [
        "s = {1}\n",
        "print(type(s))\n",
        "print(s)\n",
        "\n",
        "s.pop()\n",
        "print(s)\n"
      ],
      "metadata": {
        "colab": {
          "base_uri": "https://localhost:8080/"
        },
        "id": "0SQHIz8lMJoB",
        "outputId": "d9714724-e8e3-4607-db29-e9a07bf7617f"
      },
      "execution_count": 14,
      "outputs": [
        {
          "output_type": "stream",
          "name": "stdout",
          "text": [
            "<class 'set'>\n",
            "{1}\n",
            "set()\n"
          ]
        }
      ]
    },
    {
      "cell_type": "code",
      "source": [
        "from unicodedata import name\n",
        "\n",
        "{chr(i) for i in range(32, 256) if 'SIGN' in name(chr(i), '')}\n"
      ],
      "metadata": {
        "colab": {
          "base_uri": "https://localhost:8080/"
        },
        "id": "lBH7Yn63MJiJ",
        "outputId": "f1913080-f076-4567-9f22-5394335f12d8"
      },
      "execution_count": 15,
      "outputs": [
        {
          "output_type": "execute_result",
          "data": {
            "text/plain": [
              "{'#',\n",
              " '$',\n",
              " '%',\n",
              " '+',\n",
              " '<',\n",
              " '=',\n",
              " '>',\n",
              " '¢',\n",
              " '£',\n",
              " '¤',\n",
              " '¥',\n",
              " '§',\n",
              " '©',\n",
              " '¬',\n",
              " '®',\n",
              " '°',\n",
              " '±',\n",
              " 'µ',\n",
              " '¶',\n",
              " '×',\n",
              " '÷'}"
            ]
          },
          "metadata": {},
          "execution_count": 15
        }
      ]
    },
    {
      "cell_type": "code",
      "source": [
        "DIAL_CODES = [\n",
        "    (82, 'Korea'),\n",
        "    (91, 'India'),\n",
        "    (1, 'United States'),\n",
        "    (92, 'Pakistan'),\n",
        "    (7, 'Russia'),\n",
        "]\n",
        "\n",
        "d1 = dict(DIAL_CODES)\n",
        "print(f'd1: {d1.keys()}')\n",
        "\n",
        "d2 = dict(sorted(DIAL_CODES))\n",
        "print(f'd2: {d2.keys()}')\n",
        "\n",
        "d3 = dict(sorted(DIAL_CODES, key=lambda x: x[1]))\n",
        "print(f'd3: {d3.keys()}')\n",
        "\n",
        "assert d1 == d2 == d3\n"
      ],
      "metadata": {
        "colab": {
          "base_uri": "https://localhost:8080/"
        },
        "id": "-CY5moHyMJ8F",
        "outputId": "a5b079fe-2338-46ba-fbd2-08569b6cbf86"
      },
      "execution_count": 16,
      "outputs": [
        {
          "output_type": "stream",
          "name": "stdout",
          "text": [
            "d1: dict_keys([82, 91, 1, 92, 7])\n",
            "d2: dict_keys([1, 7, 82, 91, 92])\n",
            "d3: dict_keys([91, 82, 92, 7, 1])\n"
          ]
        }
      ]
    }
  ]
}